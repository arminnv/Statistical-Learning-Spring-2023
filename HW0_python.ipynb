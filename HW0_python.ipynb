{
  "cells": [
    {
      "cell_type": "markdown",
      "metadata": {
        "id": "Huz4iqmNvQsz"
      },
      "source": [
        "<h1 align=\"center\">\n",
        "<img src=\"https://drive.google.com/uc?export=view&id=1_ZkE3dnYg9KykzdZE6lIK2s_q_nbiKk_\" width=\"160\" height=\"160\">\n",
        "</h1>\n",
        "<h1 align=\"center\">Statistical Learning - 255381</h1>\n",
        "<h3 align=\"center\">Dr. Hoda Mohammadzade</h3>\n",
        "<h5 align=\"center\">Sharif University of Technology<br/>Electrical Engineering Department<br/>Spring 2023</h5>\n",
        "\n",
        "---\n",
        "\n",
        "\n",
        "# Problem Set 01\n",
        "\n",
        "Welcome to your first assignment. This exercise gives you a brief introduction to Python. \n",
        "\n",
        "> **Instructions:**\n",
        "> * You will be using Python 3.\n",
        "> * Please upload your assignment on CW.\n",
        "> * Your file name should be in format of ***HW# _Name_Student ID***\n",
        "> * Do not upload other students’ answers.\n",
        "> * If you have any inquiry regarding this assignment, message '@amin_dehnavi' or '@hoseynRanjbar' in Telegram or email amindehnavi10@gmail.com.\n",
        "\n",
        "Let's get started!\n",
        "\n",
        "\n"
      ]
    },
    {
      "cell_type": "code",
      "execution_count": null,
      "metadata": {
        "id": "CFkqGLMlB9ck",
        "colab": {
          "base_uri": "https://localhost:8080/"
        },
        "outputId": "f079ce58-4174-404d-deb6-ebba458de6cb"
      },
      "outputs": [
        {
          "output_type": "stream",
          "name": "stdout",
          "text": [
            "StudentName:Armin Navardi , StudentID:99105129\n"
          ]
        }
      ],
      "source": [
        "### Please Fill the following entries\n",
        "StudentName = \"Armin Navardi\"\n",
        "StudentID   = \"99105129\"\n",
        "\n",
        "print (f'StudentName:{StudentName} , StudentID:{StudentID}')"
      ]
    },
    {
      "cell_type": "markdown",
      "metadata": {
        "id": "YESFVnEEvQs8"
      },
      "source": [
        "## About iPython Notebooks ##\n",
        "\n",
        "iPython Notebooks are interactive coding environments embedded in a webpage. You will be using iPython notebooks in this class. You only need to write code between the ### START CODE HERE ### and ### END CODE HERE ### comments. After writing your code, you can run the cell by either pressing \"SHIFT\"+\"ENTER\" or by clicking on \"Run Cell\" (denoted by a play symbol) in the upper bar of the notebook. \n",
        "\n",
        "**Exercise**: Set test to `\"Hello World\"` in the cell below to print \"Hello World\" and run the two cells below."
      ]
    },
    {
      "cell_type": "code",
      "execution_count": null,
      "metadata": {
        "id": "z_CYYVDzvQs8",
        "colab": {
          "base_uri": "https://localhost:8080/"
        },
        "outputId": "43042699-dcc8-4e30-8d42-e344eeddcab1"
      },
      "outputs": [
        {
          "output_type": "stream",
          "name": "stdout",
          "text": [
            "Hello World\n"
          ]
        }
      ],
      "source": [
        "### START CODE HERE ###\n",
        "test = \"Hello World\" \n",
        "print(test)\n",
        "### END CODE HERE ###"
      ]
    },
    {
      "cell_type": "markdown",
      "metadata": {
        "id": "dt3BR1N_vQs9"
      },
      "source": [
        "<font color='blue'>\n",
        "**What you need to remember**:\n",
        "- Run your cells using SHIFT+ENTER (or \"Run cell\")\n",
        "- Write code in the designated areas using Python 3 only\n",
        "- Do not modify the code outside of the designated areas"
      ]
    },
    {
      "cell_type": "markdown",
      "metadata": {
        "id": "vRbqK2zDvQs9"
      },
      "source": [
        "# 1.\n",
        ">What are the lengths of the following lists and strings below? Fill in the variable `lengths` with your predictions. (Try to make a prediction for each list *without* just calling `len()` on it.)"
      ]
    },
    {
      "cell_type": "code",
      "execution_count": null,
      "metadata": {
        "id": "vSe02i-zvQs-"
      },
      "outputs": [],
      "source": [
        "a = [1, 2, 3]\n",
        "b = [1, [2, 3]]\n",
        "c = []\n",
        "d = [1, 2, 3][1:]\n",
        "e = 'it\\'s ok'\n",
        "f = \"\"\n",
        "g = \"\"\"hey\"\"\"\n",
        "h = '\\n'\n",
        "\n",
        "# Put your predictions in the list below. Lengths should contain 8 numbers, the\n",
        "# first being the length of a, the second being the length of b and so on.\n",
        "\n",
        "### START CODE HERE ###\n",
        "lengths = [3, 2, 0, 2, 7, 0, 3, 1]\n",
        "### END CODE HERE ###"
      ]
    },
    {
      "cell_type": "markdown",
      "metadata": {
        "id": "Daim1IuRvQs-"
      },
      "source": [
        "# 2. \n",
        ">Swap the values to which a and b refer."
      ]
    },
    {
      "cell_type": "code",
      "execution_count": null,
      "metadata": {
        "id": "Gvg9PxT8vQs-"
      },
      "outputs": [],
      "source": [
        "a = [1, 2, 3]\n",
        "b = [3, 2, 1]\n",
        "\n",
        "### START CODE HERE ###\n",
        "c = a\n",
        "a = b\n",
        "b = c\n",
        "### END CODE HERE ###"
      ]
    },
    {
      "cell_type": "markdown",
      "metadata": {
        "id": "1Ccry0DKvQs_"
      },
      "source": [
        "# 3. \n",
        ">Which of the two variables below has the smallest absolute value? Use Python's built-in functions."
      ]
    },
    {
      "cell_type": "code",
      "execution_count": null,
      "metadata": {
        "id": "U3_EedHCvQs_"
      },
      "outputs": [],
      "source": [
        "x = -10\n",
        "y = 5\n",
        "\n",
        "### START CODE HERE ###\n",
        "smallest_abs = min(x, y)\n",
        "### END CODE HERE ###"
      ]
    },
    {
      "cell_type": "markdown",
      "metadata": {
        "id": "LDz4N2_NvQs_"
      },
      "source": [
        "# 4. \n",
        "\n",
        "> A simple exercise! Run the cell below and try to explain the results for yourself:\n",
        "\n"
      ]
    },
    {
      "cell_type": "code",
      "execution_count": null,
      "metadata": {
        "id": "c6v3iUYTvQtA",
        "colab": {
          "base_uri": "https://localhost:8080/"
        },
        "outputId": "3e678671-4e74-4a42-bb11-0eae106560f3"
      },
      "outputs": [
        {
          "output_type": "stream",
          "name": "stdout",
          "text": [
            "1.0\n",
            "0.0\n",
            "1.0\n"
          ]
        }
      ],
      "source": [
        "print( 1.0 + 1.0 - 1.0 )\n",
        "print( 1.0 + 1.0e20 - 1.0e20 )\n",
        "print( 1.0e20 - 1.0e20 + 1 )"
      ]
    },
    {
      "cell_type": "markdown",
      "metadata": {
        "id": "fUE7pqjSvQtA"
      },
      "source": [
        "# 5.\n",
        ">Many programming languages have [`sign`](https://en.wikipedia.org/wiki/Sign_function) available as a built-in function. Python doesn't, but we can define our own! \n",
        "In the cell below, define a function called `sign` which takes a numerical argument and returns -1 if it's negative, 1 if it's positive, and 0 if it's 0."
      ]
    },
    {
      "cell_type": "code",
      "execution_count": null,
      "metadata": {
        "id": "ZDhOxPpvvQtB",
        "colab": {
          "base_uri": "https://localhost:8080/"
        },
        "outputId": "4bf42495-e30c-4067-c5f5-d852858cd78c"
      },
      "outputs": [
        {
          "output_type": "stream",
          "name": "stdout",
          "text": [
            "1\n",
            "-1\n",
            "0\n"
          ]
        }
      ],
      "source": [
        "def sign(x):\n",
        "    # (\"pass\" is a keyword that does literally nothing. We used it as a placeholder\n",
        "    # because after we begin a code block, Python requires at least one line of code)\n",
        "    \n",
        "    ### START CODE HERE ###\n",
        "    if x > 0:\n",
        "      return 1\n",
        "    elif x < 0:\n",
        "      return -1\n",
        "    else:\n",
        "      return 0\n",
        "    ### END CODE HERE ###\n",
        "    pass\n",
        "\n",
        "# You can try different examples to check your function:\n",
        "print(sign(2))\n",
        "print(sign(-2))\n",
        "print(sign(0))"
      ]
    },
    {
      "cell_type": "markdown",
      "metadata": {
        "id": "eC9P5ZUYvQtB"
      },
      "source": [
        "# 6. \n",
        ">Complete the body of the following function according to its docstring.\n",
        "\n",
        "HINT: Python has a built-in function `round`."
      ]
    },
    {
      "cell_type": "code",
      "execution_count": null,
      "metadata": {
        "id": "IgmX4KkJvQtB",
        "colab": {
          "base_uri": "https://localhost:8080/"
        },
        "outputId": "43276328-ed19-47f9-b51a-90cd5c67d2f0"
      },
      "outputs": [
        {
          "output_type": "execute_result",
          "data": {
            "text/plain": [
              "3.14"
            ]
          },
          "metadata": {},
          "execution_count": 22
        }
      ],
      "source": [
        "def round_to_two_places(num):\n",
        "    \"\"\"Return the given number rounded to two decimal places. \n",
        "    \n",
        "    >>> round_to_two_places(3.14159)\n",
        "    3.14\n",
        "    \"\"\"\n",
        "    ### START CODE HERE ###\n",
        "    return round(num, 2)\n",
        "    ### END CODE HERE ###\n",
        "    pass\n",
        "\n",
        "round_to_two_places(9.9999)"
      ]
    },
    {
      "cell_type": "markdown",
      "metadata": {
        "id": "3CGToW1lvQtC"
      },
      "source": [
        "The help for `round` says that `ndigits` (the second argument) may be negative.\n",
        "What do you think will happen when it is? Try an example in the cell below."
      ]
    },
    {
      "cell_type": "code",
      "execution_count": null,
      "metadata": {
        "id": "ZFYyym9hvQtC",
        "colab": {
          "base_uri": "https://localhost:8080/"
        },
        "outputId": "2d026ba5-dbff-44f7-b75a-d02b0e6fc280"
      },
      "outputs": [
        {
          "output_type": "execute_result",
          "data": {
            "text/plain": [
              "200.0"
            ]
          },
          "metadata": {},
          "execution_count": 23
        }
      ],
      "source": [
        "round(232.4243, -2)   \n",
        "# the number is rounded to 2 decimal places in the left of the floating point"
      ]
    },
    {
      "cell_type": "markdown",
      "metadata": {
        "id": "I3dSboBdvQtC"
      },
      "source": [
        "# 7.\n",
        "> Write a function that evaluates the polynomial $${3x^2 − x + 2}$$"
      ]
    },
    {
      "cell_type": "code",
      "execution_count": null,
      "metadata": {
        "id": "W6CkTkHJvQtD"
      },
      "outputs": [],
      "source": [
        "def polynomial(x):\n",
        "    ### START CODE HERE ###\n",
        "    return 3*x**2 - x + 2\n",
        "    ### END CODE HERE ###\n",
        "    pass"
      ]
    },
    {
      "cell_type": "markdown",
      "metadata": {
        "id": "UKIkps2ovQtD"
      },
      "source": [
        "# 8.\n",
        ">Complete the function below according to its docstring."
      ]
    },
    {
      "cell_type": "code",
      "execution_count": null,
      "metadata": {
        "id": "8HeVlBm5vQtE",
        "colab": {
          "base_uri": "https://localhost:8080/"
        },
        "outputId": "3561caed-767b-4bc7-eb73-37805cf775c6"
      },
      "outputs": [
        {
          "output_type": "stream",
          "name": "stdout",
          "text": [
            "None\n"
          ]
        }
      ],
      "source": [
        "def select_second(L):\n",
        "    \"\"\"Return the second element of the given list. If the list has no second\n",
        "    element, return None.\n",
        "    \"\"\"\n",
        "    ### START CODE HERE ###\n",
        "    if len(L) > 1:\n",
        "      return L[1]\n",
        "    else:\n",
        "      return None\n",
        "    ### END CODE HERE ###\n",
        "    pass"
      ]
    },
    {
      "cell_type": "markdown",
      "metadata": {
        "id": "W7FFGczHvQtE"
      },
      "source": [
        "# 9.\n",
        ">We're using lists to record people who attended a class and what order they arrived in. For example, the following list represents a class with 7 students, in which 'Amirhossein' showed up first and 'Pedram' was the last to arrive:\n",
        "    \n",
        "> class_attendees = ['Amirhossein', 'Hadi', 'Fatemeh', 'Mahtab', 'Ali', 'Nasim', 'Pedram']\n",
        "\n",
        "> A student is considered 'fashionably late' if they arrived after at least half of the class's students. However, they must not be the very last student (that's taking it too far). In the above example, Ali and Nasim are the only students who were fashionably late.\n",
        "Complete the function below which takes a list of class attendees as well as a person, and tells us whether that person is fashionably late."
      ]
    },
    {
      "cell_type": "code",
      "execution_count": null,
      "metadata": {
        "id": "V5b0CXtwvQtE",
        "colab": {
          "base_uri": "https://localhost:8080/"
        },
        "outputId": "a816822a-fdc9-4248-c8c5-201f19bccff1"
      },
      "outputs": [
        {
          "output_type": "stream",
          "name": "stdout",
          "text": [
            "False\n"
          ]
        }
      ],
      "source": [
        "def fashionably_late(arrivals, name):\n",
        "    \"\"\"Given an ordered list of arrivals to the class and a name, return whether the student with that\n",
        "    name was fashionably late.\n",
        "    \"\"\"\n",
        "    ### START CODE HERE ###\n",
        "    i = arrivals.index(name) \n",
        "    l = len(arrivals)\n",
        "    if i >= l/2 and i + 1 != l:\n",
        "      return True\n",
        "    else:\n",
        "      return False\n",
        "    ### END CODE HERE ###\n",
        "    pass"
      ]
    },
    {
      "cell_type": "markdown",
      "metadata": {
        "id": "ZHvU9UiFvQtF"
      },
      "source": [
        "# 10.\n",
        ">Complete the function below according to its docstring."
      ]
    },
    {
      "cell_type": "code",
      "execution_count": null,
      "metadata": {
        "id": "SWFoGy-2vQtF",
        "colab": {
          "base_uri": "https://localhost:8080/"
        },
        "outputId": "61380737-33a6-4faa-f760-7c4572e10ed2"
      },
      "outputs": [
        {
          "output_type": "stream",
          "name": "stdout",
          "text": [
            "False\n"
          ]
        }
      ],
      "source": [
        "def has_lucky_number(nums):\n",
        "    \"\"\"Return whether the given list of numbers is lucky. A lucky list contains\n",
        "    at least one number divisible by 7.\n",
        "    \"\"\"\n",
        "    ### START CODE HERE ###\n",
        "    for x in nums:\n",
        "      if x % 7 == 0:\n",
        "        return True\n",
        "    return False\n",
        "    ### END CODE HERE ###\n",
        "    pass"
      ]
    },
    {
      "cell_type": "markdown",
      "metadata": {
        "id": "hRPoBOVSvQtF"
      },
      "source": [
        "# 11.\n",
        "\n",
        ">Complete the body of the function below according to its docstring."
      ]
    },
    {
      "cell_type": "code",
      "execution_count": 131,
      "metadata": {
        "id": "WIPoLRXxvQtF",
        "colab": {
          "base_uri": "https://localhost:8080/"
        },
        "outputId": "74844aa5-e3ec-46f9-8b27-d6958a0683a5"
      },
      "outputs": [
        {
          "output_type": "execute_result",
          "data": {
            "text/plain": [
              "True"
            ]
          },
          "metadata": {},
          "execution_count": 131
        }
      ],
      "source": [
        "def menu_is_boring(meals):\n",
        "    \"\"\"Given a list of meals served over some period of time, return True if the\n",
        "    same meal has ever been served two days in a row, and False otherwise.\n",
        "    \"\"\"\n",
        "    ### START CODE HERE ###\n",
        "    for i in range(len(meals)-1):\n",
        "        if meals[i] == meals[i + 1]:\n",
        "            return True\n",
        "    return False\n",
        "    ### END CODE HERE ###\n",
        "    pass"
      ]
    },
    {
      "cell_type": "markdown",
      "metadata": {
        "id": "yxuYiXUJvQtG"
      },
      "source": [
        "# 12.\n",
        "\n",
        "> There is a saying that \"Data scientists spend 80% of their time cleaning data, and 20% of their time complaining about cleaning data.\" Let's see if you can write a function to help clean US zip code data. Given a string, it should return whether or not that string represents a valid zip code. For our purposes, a valid zip code is any string consisting of exactly 5 digits.\n",
        "\n",
        "HINT: `str` has a method that will be useful here. Use `help(str)` to review a list of string methods."
      ]
    },
    {
      "cell_type": "code",
      "execution_count": null,
      "metadata": {
        "id": "tLm1VoEFvQtG",
        "colab": {
          "base_uri": "https://localhost:8080/"
        },
        "outputId": "682dda37-1968-4016-86b1-8138c323fc13"
      },
      "outputs": [
        {
          "output_type": "stream",
          "name": "stdout",
          "text": [
            "False\n"
          ]
        }
      ],
      "source": [
        "def is_valid_zip(zip_code):\n",
        "    \"\"\"Returns whether the input string is a valid (5 digit) zip code\n",
        "    \"\"\"\n",
        "    ### START CODE HERE ###\n",
        "    if zip_code.isdigit() and len(zip_code) == 5:\n",
        "      return True\n",
        "    else:\n",
        "      return False\n",
        "    ### END CODE HERE ###\n",
        "    pass"
      ]
    },
    {
      "cell_type": "markdown",
      "metadata": {
        "id": "_mVz_5DOvQtG"
      },
      "source": [
        "# 13.\n",
        ">Write a function my_max(x,y) that returns the maximum of x and y. \n",
        "\n",
        ">Do not use the max function, but use if instead in following two ways:\n",
        "\n",
        ">> (a) Use both if and else.\n",
        "\n",
        ">> (b) Use if but not else (nor elif)."
      ]
    },
    {
      "cell_type": "code",
      "execution_count": null,
      "metadata": {
        "id": "H9vxfyyNvQtG"
      },
      "outputs": [],
      "source": [
        "def my_max_a(x, y):\n",
        "    ### START CODE HERE ###\n",
        "    if x > y:\n",
        "      return x\n",
        "    else:\n",
        "      return y\n",
        "    ### END CODE HERE ###\n",
        "    pass"
      ]
    },
    {
      "cell_type": "code",
      "execution_count": null,
      "metadata": {
        "id": "5JZTIYEjvQtH"
      },
      "outputs": [],
      "source": [
        "def my_max_b(x, y):\n",
        "    ### START CODE HERE ###\n",
        "    if x > y:\n",
        "      return x\n",
        "    return y\n",
        "    ### END CODE HERE ###\n",
        "    pass"
      ]
    },
    {
      "cell_type": "markdown",
      "metadata": {
        "id": "422SRW83vQtH"
      },
      "source": [
        "# 14.  \n",
        "\n",
        "> Let i,j = 1,...,n\n",
        "\n",
        ">>(a) Generate a list with elements [i,j].\n",
        "\n",
        ">>(b) Generate a list with elements [i,j] with i < j\n",
        "\n",
        ">>(c) Generate a list with elements i + j with both i and j prime and i > j\n",
        "\n",
        "Use List comprehensions"
      ]
    },
    {
      "cell_type": "code",
      "execution_count": 147,
      "metadata": {
        "id": "BMmQrscfvQtI",
        "colab": {
          "base_uri": "https://localhost:8080/"
        },
        "outputId": "c1005fd8-cef8-4b09-bbc3-b7a0c00be13a"
      },
      "outputs": [
        {
          "output_type": "stream",
          "name": "stdout",
          "text": [
            "[[22, 2], [17, 15], [20, 10], [19, 9], [25, 5], [7, 14], [14, 4], [16, 6], [24, 15], [19, 19], [7, 17], [9, 7], [22, 2], [17, 8], [11, 6], [28, 13], [7, 21], [26, 22], [15, 15], [29, 1], [21, 22], [11, 10], [4, 16], [15, 23], [26, 15], [17, 26], [23, 27], [26, 13], [7, 8], [26, 12], [8, 12], [17, 11], [24, 4], [7, 21], [6, 18], [16, 20], [21, 12], [14, 15], [18, 21], [10, 19], [23, 19], [17, 19], [9, 3], [15, 13], [25, 26], [23, 13], [14, 21], [11, 2], [24, 18], [2, 13], [25, 27], [9, 13], [26, 24], [7, 25], [29, 3], [26, 22], [17, 9], [23, 30], [19, 26], [20, 18]]\n",
            "[[7, 14], [7, 17], [7, 21], [21, 22], [4, 16], [15, 23], [17, 26], [23, 27], [7, 8], [8, 12], [7, 21], [6, 18], [16, 20], [14, 15], [18, 21], [10, 19], [17, 19], [25, 26], [14, 21], [2, 13], [25, 27], [9, 13], [7, 25], [23, 30], [19, 26]]\n",
            "[28, 42, 36, 13, 32]\n"
          ]
        }
      ],
      "source": [
        "# a)\n",
        "### START CODE HERE ###\n",
        "import numpy as np\n",
        "l = 60\n",
        "n = 30\n",
        "A = [ [np.random.randint(1, n+1), np.random.randint(1, n+1)]\\\n",
        "     for m in range(l)]\n",
        "print(A)\n",
        "### END CODE HERE ###\n",
        "\n",
        "\n",
        "# b)\n",
        "### START CODE HERE ###\n",
        "B = [list(x) for x in A if x[0] < x[1]]\n",
        "print(B)\n",
        "### END CODE HERE ###\n",
        "\n",
        "\n",
        "# c)\n",
        "### START CODE HERE ###\n",
        "import math\n",
        "def is_prime(n):\n",
        "    prime_flag = 0\n",
        " \n",
        "    if(n > 1):\n",
        "        for i in range(2, int(math.sqrt(n)) + 1):\n",
        "            if (n % i == 0):\n",
        "                prime_flag = 1\n",
        "                break\n",
        "        if (prime_flag == 0):\n",
        "            return True\n",
        "        else:\n",
        "            return False\n",
        "    else:\n",
        "        return False\n",
        "C = [x[0] + x[1] for x in A if x[0] > x[1] and is_prime(x[0]) and is_prime(x[1])]\n",
        "print(C)\n",
        "### END CODE HERE ###"
      ]
    },
    {
      "cell_type": "markdown",
      "metadata": {
        "id": "5SFwCPh3vQtI"
      },
      "source": [
        "# 15. \n",
        "\n",
        ">Complete the body of the function below according to its docstring."
      ]
    },
    {
      "cell_type": "code",
      "execution_count": null,
      "metadata": {
        "id": "o8R9vxPivQtI",
        "colab": {
          "base_uri": "https://localhost:8080/"
        },
        "outputId": "2a4f27f7-0b88-43f2-f90d-d9297e21de9a"
      },
      "outputs": [
        {
          "output_type": "stream",
          "name": "stdout",
          "text": [
            "[2002, 2009, 2016, 2023, 2037, 2044, 2051, 2058, 2072, 2079, 2086, 2093, 2107, 2114, 2121, 2128, 2142, 2149, 2156, 2163, 2177, 2184, 2191, 2198, 2212, 2219, 2226, 2233, 2247, 2254, 2261, 2268, 2282, 2289, 2296, 2303, 2317, 2324, 2331, 2338, 2352, 2359, 2366, 2373, 2387, 2394, 2401, 2408, 2422, 2429, 2436, 2443, 2457, 2464, 2471, 2478, 2492, 2499, 2506, 2513, 2527, 2534, 2541, 2548, 2562, 2569, 2576, 2583, 2597, 2604, 2611, 2618, 2632, 2639, 2646, 2653, 2667, 2674, 2681, 2688, 2702, 2709, 2716, 2723, 2737, 2744, 2751, 2758, 2772, 2779, 2786, 2793, 2807, 2814, 2821, 2828, 2842, 2849, 2856, 2863, 2877, 2884, 2891, 2898, 2912, 2919, 2926, 2933, 2947, 2954, 2961, 2968, 2982, 2989, 2996, 3003, 3017, 3024, 3031, 3038, 3052, 3059, 3066, 3073, 3087, 3094, 3101, 3108, 3122, 3129, 3136, 3143, 3157, 3164, 3171, 3178, 3192, 3199]\n"
          ]
        }
      ],
      "source": [
        "def my_func():\n",
        "    \"\"\"Write a function which will return a list contains all such numbers which are divisible by 7 but are not a multiple\n",
        "    of 5, between 2000 and 3200 (both included).\n",
        "    \"\"\"\n",
        "    ### START CODE HERE ###\n",
        "    nums = []\n",
        "    for n in range(2000, 3200+1):\n",
        "      if n % 7 == 0 and n % 5 != 0:\n",
        "        nums.append(n)\n",
        "    return(nums)\n",
        "    ### END CODE HERE ###\n",
        "    pass"
      ]
    },
    {
      "cell_type": "markdown",
      "metadata": {
        "id": "1r5DGTgvvQtI"
      },
      "source": [
        "# 16.\n",
        "\n",
        ">Write a program that accepts a sentence and calculate the number of letters and digits.\n",
        "Suppose the following input is supplied to the program:\n",
        "\n",
        "        hello world! 123\n",
        ">Then, the output should be:\n",
        "\n",
        ">>LETTERS 10\n",
        "\n",
        ">>DIGITS 3"
      ]
    },
    {
      "cell_type": "code",
      "execution_count": 88,
      "metadata": {
        "id": "rPyCO_C5vQtJ",
        "colab": {
          "base_uri": "https://localhost:8080/"
        },
        "outputId": "b2acb1ab-d3b4-4cc5-b929-e6ee40da7904"
      },
      "outputs": [
        {
          "output_type": "stream",
          "name": "stdout",
          "text": [
            "Enter a sentence: dx5 dsv2 111\n",
            "LETTTERS 5\n",
            "DIGITS 5\n"
          ]
        }
      ],
      "source": [
        "### START CODE HERE ###\n",
        "\n",
        "string = input(\"Enter a sentence: \")\n",
        "\n",
        "numbers = sum(c.isdigit() for c in string)\n",
        "letters = sum(c.isalpha() for c in string)\n",
        "\n",
        "print(f'LETTTERS {letters}\\nDIGITS {numbers}')\n",
        "### END CODE HERE ###"
      ]
    },
    {
      "cell_type": "markdown",
      "metadata": {
        "id": "D5aWNpvevQtJ"
      },
      "source": [
        "# 17.\n",
        "Write a function to sort a list of tuples (name, age, height) by ascending order\n",
        "where name is string, age and height are numbers. The sort\n",
        "criteria is:\n",
        "\n",
        "* 1: Sort based on name;\n",
        "* 2: Then sort based on age;\n",
        "* 3: Then sort by score.\n",
        "\n",
        "The priority is that name > age > score.\n",
        "If the following list is given as input to the function:\n",
        ">[('Taha',19,80), ('Farhad',20,90), ('Farrokh',17,91), ('Farrokh',17,93), ('Fatemeh',21,85)]\n",
        "\n",
        "Then, the output of the program should be:\n",
        ">[('Farhad', '20', '90'), ('Farrokh', '17', '91'), ('Farrokh', '17', '93'), ('Fatemeh', '21', '85'), ('Taha', '19', '80')]"
      ]
    },
    {
      "cell_type": "code",
      "execution_count": 90,
      "metadata": {
        "id": "sNs_JgdqvQtJ",
        "colab": {
          "base_uri": "https://localhost:8080/"
        },
        "outputId": "2f5630bb-a949-43c2-fd9d-23bde5784b3e"
      },
      "outputs": [
        {
          "output_type": "stream",
          "name": "stdout",
          "text": [
            "[('Farhad', 20, 90), ('Farrokh', 17, 91), ('Farrokh', 17, 93), ('Fatemeh', 21, 85), ('Taha', 19, 80)]\n"
          ]
        }
      ],
      "source": [
        "def sortTuple(inputList):\n",
        "    ### START CODE HERE ###\n",
        "    return sorted(inputList)\n",
        "    ### END CODE HERE ###\n",
        "    pass"
      ]
    },
    {
      "cell_type": "markdown",
      "metadata": {
        "id": "6Nw0m6DjvQtJ"
      },
      "source": [
        "# 18. \n",
        "\n",
        "> What does the function below do? Which built-in function that we mentioned in the class has the same function? Rewrite the example using that function."
      ]
    },
    {
      "cell_type": "code",
      "execution_count": null,
      "metadata": {
        "id": "AWGweOBjvQtK",
        "colab": {
          "base_uri": "https://localhost:8080/"
        },
        "outputId": "416f06e3-93ee-4ac0-d7fd-8340db146d26"
      },
      "outputs": [
        {
          "output_type": "stream",
          "name": "stdout",
          "text": [
            "[3, 2, 3]\n",
            "[3, 2, 3]\n"
          ]
        }
      ],
      "source": [
        "def MY_FUNC(func, collection):\n",
        "    output = []\n",
        "    for element in collection:\n",
        "        output += [func(element)]\n",
        "    return output\n",
        "\n",
        "# Example:\n",
        "print( MY_FUNC(max, [[1, 2, 3], [-1, 0, 2], (3, 0, 3)]) )\n",
        "\n",
        "### START CODE HERE ###\n",
        "# MY(FUNC(func, colllection)) applies the \"func\" to every element in colllection and turns them into a list  \n",
        "import numpy as np\n",
        "print(list(map(max, [[1, 2, 3], [-1, 0, 2], (3, 0, 3)])))\n",
        "### END CODE HERE ###"
      ]
    },
    {
      "cell_type": "markdown",
      "metadata": {
        "id": "6hvHCf120sgF"
      },
      "source": [
        "# 19.\n",
        "\n",
        ">Create the followings to numpy array:\n",
        "* A: a 3\\*3 array like this:\n",
        "$$\n",
        "A = \\left(\\begin{array}{cc} \n",
        "1 & 2 & 3\\\\\n",
        "2 & 1 & 5\\\\\n",
        "3 & 5 & 4\n",
        "\\end{array}\\right)\n",
        "$$ \n",
        "* B: a 3\\*3\\*4 that filled with the numbers of [Fibonacci number](https://en.wikipedia.org/wiki/Fibonacci_number). The array should be filled first along the first dimension then the second dimension and at last the third dimension. like this:\n",
        "$$\n",
        "B[:, :, 0] = \\left(\\begin{array}{cc} \n",
        "1 & 3 & 13\\\\\n",
        "1 & 5 & 21\\\\\n",
        "2 & 8 & 34\n",
        "\\end{array}\\right)\n",
        "$$ "
      ]
    },
    {
      "cell_type": "code",
      "execution_count": 102,
      "metadata": {
        "colab": {
          "base_uri": "https://localhost:8080/"
        },
        "id": "mrzGqB8c0sgF",
        "outputId": "e08b2fad-8774-4488-e509-3fd9fea47718"
      },
      "outputs": [
        {
          "output_type": "stream",
          "name": "stdout",
          "text": [
            "[[1 2 3]\n",
            " [2 1 5]\n",
            " [3 5 4]]\n",
            "[[  317811  1346269  5702887]\n",
            " [  514229  2178309  9227465]\n",
            " [  832040  3524578 14930352]]\n"
          ]
        }
      ],
      "source": [
        "### START CODE HERE ###\n",
        "import numpy as np\n",
        "A = np.array([[1, 2, 3],\n",
        "              [2, 1, 5],\n",
        "              [3, 5, 4]])\n",
        "print(A)\n",
        "\n",
        "B = np.zeros((3*3*4, 1), dtype=int)\n",
        "B[0] = 1\n",
        "B[1] = 1\n",
        "for i in range(2, len(B)):\n",
        "      B[i] = B[i-1] + B[i-2]\n",
        "\n",
        "B = B.reshape(4, 3, 3).transpose(2, 1, 0)\n",
        "# B[first ,second, third]\n",
        "print(B[:, :, 3])\n",
        "\n",
        "### END CODE HERE ###"
      ]
    },
    {
      "cell_type": "markdown",
      "metadata": {
        "id": "ro89zEWN0sgF"
      },
      "source": [
        "# 20. Replacement\n",
        "\n",
        ">Replace the last slice of array B (B[:, :, 3]) with values of A. Then print the result."
      ]
    },
    {
      "cell_type": "code",
      "execution_count": 104,
      "metadata": {
        "colab": {
          "base_uri": "https://localhost:8080/"
        },
        "id": "hH1tmApk0sgF",
        "outputId": "af7015e8-532b-44e4-be7b-9d04a3fc0d98"
      },
      "outputs": [
        {
          "output_type": "stream",
          "name": "stdout",
          "text": [
            "[[[     1     55   4181      1]\n",
            "  [     3    233  17711      2]\n",
            "  [    13    987  75025      3]]\n",
            "\n",
            " [[     1     89   6765      2]\n",
            "  [     5    377  28657      1]\n",
            "  [    21   1597 121393      5]]\n",
            "\n",
            " [[     2    144  10946      3]\n",
            "  [     8    610  46368      5]\n",
            "  [    34   2584 196418      4]]]\n"
          ]
        }
      ],
      "source": [
        "### START CODE HERE ###\n",
        "B[:, :, 3] = A\n",
        "print(B)\n",
        "### END CODE HERE ###"
      ]
    },
    {
      "cell_type": "markdown",
      "metadata": {
        "id": "xiBxIkdw0sgF"
      },
      "source": [
        "## 21. Axis Swap \n",
        ">Swap the second(B[:, :, 2]) and last(B[:, :, 3]) slice of the array B **only with one line of code**. Then print the result."
      ]
    },
    {
      "cell_type": "code",
      "execution_count": 105,
      "metadata": {
        "id": "L3MHaAxw0sgG"
      },
      "outputs": [],
      "source": [
        "### START CODE HERE ###\n",
        "B[:,:,2], B[:, :, 3] = B[:, :, 3].copy(), B[:, :, 2].copy()\n",
        "print(B)\n",
        "### END CODE HERE ###"
      ]
    },
    {
      "cell_type": "markdown",
      "metadata": {
        "id": "zMkKGdX-0sgG"
      },
      "source": [
        "## 22. Transposing \n",
        ">Transpose the array B elements in each slice. Then print the result."
      ]
    },
    {
      "cell_type": "code",
      "execution_count": 106,
      "metadata": {
        "colab": {
          "base_uri": "https://localhost:8080/"
        },
        "id": "23BAlAY30sgG",
        "outputId": "c8f431b3-853d-428f-e979-fccd9f959896"
      },
      "outputs": [
        {
          "output_type": "stream",
          "name": "stdout",
          "text": [
            "[[ 1  1  2]\n",
            " [ 3  5  8]\n",
            " [13 21 34]]\n",
            "[[  55   89  144]\n",
            " [ 233  377  610]\n",
            " [ 987 1597 2584]]\n",
            "[[1 2 3]\n",
            " [2 1 5]\n",
            " [3 5 4]]\n",
            "[[  4181   6765  10946]\n",
            " [ 17711  28657  46368]\n",
            " [ 75025 121393 196418]]\n"
          ]
        }
      ],
      "source": [
        "### START CODE HERE ###\n",
        "B = B.transpose(1, 0, 2)\n",
        "print(B[:, :, 0])\n",
        "print(B[:, :, 1])\n",
        "print(B[:, :, 2])\n",
        "print(B[:, :, 3])\n",
        "\n",
        "### END CODE HERE ###"
      ]
    },
    {
      "cell_type": "markdown",
      "metadata": {
        "id": "LDiZJgaP0sgG"
      },
      "source": [
        "## 23. Matrix Multiplication\n",
        ">Calculate the matrix multiplication of three slices of the array B. \n",
        "(B[:, :, 0] \\* B[:, :, 1] \\* B[:, :, 2]). Then print the result.\n",
        "\n",
        ">**Note**: the result should be a 3\\*3 array. "
      ]
    },
    {
      "cell_type": "code",
      "execution_count": null,
      "metadata": {
        "colab": {
          "base_uri": "https://localhost:8080/"
        },
        "id": "FBHqhuxk0sgG",
        "outputId": "c3bbf556-d288-49e1-95dc-3b92a42a8cd9"
      },
      "outputs": [
        {
          "output_type": "stream",
          "name": "stdout",
          "text": [
            "[[  518577732   839076396  1357654128]\n",
            " [ 2115117564  3422332108  5537449672]\n",
            " [ 8979047988 14528404828 23507452816]]\n"
          ]
        }
      ],
      "source": [
        "### START CODE HERE ###\n",
        "result = B[:, :, 0] @ B[:, :, 1] @ B[:, :, 2]\n",
        "print(result)\n",
        "### END CODE HERE ###"
      ]
    },
    {
      "cell_type": "markdown",
      "metadata": {
        "id": "Rui_cbTk0sgG"
      },
      "source": [
        "## 24. Determinant\n",
        ">Calculate the determinant of the array A and print it."
      ]
    },
    {
      "cell_type": "code",
      "execution_count": 107,
      "metadata": {
        "colab": {
          "base_uri": "https://localhost:8080/"
        },
        "id": "mNBLiwfp0sgG",
        "outputId": "4f6d1d6d-a9c3-4b90-f1f3-daf7559e3f99"
      },
      "outputs": [
        {
          "output_type": "stream",
          "name": "stdout",
          "text": [
            "13.999999999999996\n"
          ]
        }
      ],
      "source": [
        "### START CODE HERE ###\n",
        "det_A = np.linalg.det(A)\n",
        "print(det_A)\n",
        "### END CODE HERE ###"
      ]
    },
    {
      "cell_type": "markdown",
      "metadata": {
        "id": "yuLojEOH0sgG"
      },
      "source": [
        "# Problem Set 02\n",
        "\n",
        "## 1. Loading dataset\n",
        ">Load the IMDB-Movie-Data.csv file into a pandas dataframe and show its first 5 rows. Each row of this dataframe corresponds to one film."
      ]
    },
    {
      "cell_type": "code",
      "execution_count": 122,
      "metadata": {
        "colab": {
          "base_uri": "https://localhost:8080/"
        },
        "id": "f8MYRSnJ0sgH",
        "outputId": "38405540-2adc-4300-8b67-d79aec63be98"
      },
      "outputs": [
        {
          "output_type": "stream",
          "name": "stdout",
          "text": [
            "   Rank                    Title                     Genre  \\\n",
            "0     1  Guardians of the Galaxy   Action,Adventure,Sci-Fi   \n",
            "1     2               Prometheus  Adventure,Mystery,Sci-Fi   \n",
            "2     3                    Split           Horror,Thriller   \n",
            "3     4                     Sing   Animation,Comedy,Family   \n",
            "4     5            Suicide Squad  Action,Adventure,Fantasy   \n",
            "\n",
            "                                         Description              Director  \\\n",
            "0  A group of intergalactic criminals are forced ...            James Gunn   \n",
            "1  Following clues to the origin of mankind, a te...          Ridley Scott   \n",
            "2  Three girls are kidnapped by a man with a diag...    M. Night Shyamalan   \n",
            "3  In a city of humanoid animals, a hustling thea...  Christophe Lourdelet   \n",
            "4  A secret government agency recruits some of th...            David Ayer   \n",
            "\n",
            "                                              Actors  Year  Runtime (Minutes)  \\\n",
            "0  Chris Pratt, Vin Diesel, Bradley Cooper, Zoe S...  2014                121   \n",
            "1  Noomi Rapace, Logan Marshall-Green, Michael Fa...  2012                124   \n",
            "2  James McAvoy, Anya Taylor-Joy, Haley Lu Richar...  2016                117   \n",
            "3  Matthew McConaughey,Reese Witherspoon, Seth Ma...  2016                108   \n",
            "4  Will Smith, Jared Leto, Margot Robbie, Viola D...  2016                123   \n",
            "\n",
            "   Rating   Votes  Revenue (Millions)  Metascore  \n",
            "0     8.1  757074              333.13       76.0  \n",
            "1     7.0  485820              126.46       65.0  \n",
            "2     7.3  157606              138.12       62.0  \n",
            "3     7.2   60545              270.32       59.0  \n",
            "4     6.2  393727              325.02       40.0  \n"
          ]
        }
      ],
      "source": [
        "### START CODE HERE ###\n",
        "import pandas\n",
        "path = \"IMDB-Movie-Data.csv\"\n",
        "df = pandas.read_csv(path)\n",
        "print(df.iloc[:5])\n",
        "### END CODE HERE ###"
      ]
    },
    {
      "cell_type": "markdown",
      "metadata": {
        "id": "3JQj-_Tr0sgH"
      },
      "source": [
        "## 2. Actors/Actresses Activity\n",
        ">For each Actors/Actresses caculate the number of movies in the dataframe, then sort the actors/actresses first by their number of movies in descending order and then by their name in ascending order. "
      ]
    },
    {
      "cell_type": "code",
      "execution_count": 120,
      "metadata": {
        "colab": {
          "base_uri": "https://localhost:8080/"
        },
        "id": "e448_dXC0sgH",
        "outputId": "24cb1739-431b-4cf3-a2a8-7c7df878e0c2"
      },
      "outputs": [
        {
          "output_type": "stream",
          "name": "stdout",
          "text": [
            "{'Chris Pratt': 1, 'Vin Diesel': 1, 'Bradley Cooper': 1, 'Zoe Saldana': 1, 'Noomi Rapace': 1, 'Logan Marshall-Green': 1, 'Michael Fassbender': 1, 'Charlize Theron': 1, 'James McAvoy': 1, 'Anya Taylor-Joy': 1, 'Haley Lu Richardson': 1, 'Jessica Sula': 1, 'Matthew McConaughey,Reese Witherspoon': 1, 'Seth MacFarlane': 1, 'Scarlett Johansson': 1, 'Will Smith': 1, 'Jared Leto': 1, 'Margot Robbie': 1, 'Viola Davis': 1}\n",
            "{'Zoe Saldana': 1, 'Will Smith': 1, 'Viola Davis': 1, 'Vin Diesel': 1, 'Seth MacFarlane': 1, 'Scarlett Johansson': 1, 'Noomi Rapace': 1, 'Michael Fassbender': 1, 'Matthew McConaughey,Reese Witherspoon': 1, 'Margot Robbie': 1, 'Logan Marshall-Green': 1, 'Jessica Sula': 1, 'Jared Leto': 1, 'James McAvoy': 1, 'Haley Lu Richardson': 1, 'Chris Pratt': 1, 'Charlize Theron': 1, 'Bradley Cooper': 1, 'Anya Taylor-Joy': 1}\n"
          ]
        }
      ],
      "source": [
        "### START CODE HERE ###\n",
        "actors = df.loc[:, 'Actors']\n",
        "\n",
        "number_of_movies = {}\n",
        "for cast in actors:\n",
        "      cast = cast.split(\", \")\n",
        "      for actor in cast:\n",
        "          if actor in number_of_movies.keys():\n",
        "              number_of_movies[actor] += 1\n",
        "          else:\n",
        "              number_of_movies[actor] = 1\n",
        "\n",
        "print(dict(sorted(number_of_movies.items(), key=lambda x:x[1], reverse=True)))\n",
        "print(dict(sorted(number_of_movies.items(), key=lambda x:x[0], reverse=True)))\n",
        "### END CODE HERE ###"
      ]
    },
    {
      "cell_type": "markdown",
      "metadata": {
        "id": "mimEAFiu0sgH"
      },
      "source": [
        "## 3. Average Rate\n",
        ">Caculate the average rate of every year and sort them in descending order. Print them as a dictionary with year as key and average rate as value."
      ]
    },
    {
      "cell_type": "code",
      "execution_count": 123,
      "metadata": {
        "id": "prZXNCXP0sgH",
        "colab": {
          "base_uri": "https://localhost:8080/"
        },
        "outputId": "52d35f01-24b1-47e1-9cca-ed89cc0b388f"
      },
      "outputs": [
        {
          "output_type": "stream",
          "name": "stdout",
          "text": [
            "{2014: 6.837755102040816, 2012: 6.924999999999999, 2016: 6.436700336700337, 2015: 6.602362204724411, 2007: 7.1339622641509415, 2011: 6.83809523809524, 2008: 6.784615384615384, 2006: 7.125000000000001, 2009: 6.96078431372549, 2010: 6.826666666666668, 2013: 6.812087912087911}\n"
          ]
        }
      ],
      "source": [
        "### START CODE HERE ###\n",
        "rate = {}\n",
        "for i in range(len(df)):\n",
        "      year = df.loc[i, 'Year']\n",
        "      if year in rate.keys():\n",
        "            rate[year][0] += df.loc[i, 'Rating'] \n",
        "            rate[year][1] += 1\n",
        "      else:\n",
        "            rate[year] = [df.loc[i, 'Rating'], 1]\n",
        "\n",
        "average  = {year: rate[year][0]/rate[year][1] for year in rate.keys()}\n",
        "print(average)\n",
        "\n",
        "### END CODE HERE ###"
      ]
    },
    {
      "cell_type": "markdown",
      "metadata": {
        "id": "5nHFT_hb0sgH"
      },
      "source": [
        "## 4. Score Histogram\n",
        ">Draw the histogram of metascores and ratings. "
      ]
    },
    {
      "cell_type": "code",
      "execution_count": null,
      "metadata": {
        "colab": {
          "base_uri": "https://localhost:8080/",
          "height": 265
        },
        "id": "Lm3OVdYx0sgH",
        "outputId": "55f2cf7e-14d9-4de7-da20-99285b2af0d5"
      },
      "outputs": [
        {
          "output_type": "display_data",
          "data": {
            "text/plain": [
              "<Figure size 432x288 with 2 Axes>"
            ],
            "image/png": "[encoded data removed]"
          },
          "metadata": {
            "needs_background": "light"
          }
        }
      ],
      "source": [
        "### START CODE HERE ###\n",
        "import matplotlib.pyplot as plt\n",
        "import pandas\n",
        "path = \"/content/IMDB-Movie-Data.csv\"\n",
        "df = pandas.read_csv(path)\n",
        "fig = plt.figure()\n",
        "ax1 = plt.subplot(211)\n",
        "ax1.set_ylabel(\"metascores\")\n",
        "ax2 = plt.subplot(212)\n",
        "ax2.set_ylabel(\"ratings\")\n",
        "ax1.hist(df.loc[:, \"Metascore\"])\n",
        "ax2.hist(df.loc[:, \"Rating\"])\n",
        "plt.show()\n",
        "\n",
        "### END CODE HERE ###"
      ]
    },
    {
      "cell_type": "markdown",
      "metadata": {
        "id": "wEErVOdf0sgH"
      },
      "source": [
        "## 5. Correlations\n",
        ">Calculate the correlation between rating, votes and metascore of the movies.\n",
        "Is there any meaningful relation between these features? "
      ]
    },
    {
      "cell_type": "code",
      "execution_count": 124,
      "metadata": {
        "colab": {
          "base_uri": "https://localhost:8080/"
        },
        "id": "2vAH1GaJ0sgI",
        "outputId": "1d45f91d-4e5d-449c-ef8d-6f7d397d19bd"
      },
      "outputs": [
        {
          "output_type": "stream",
          "name": "stdout",
          "text": [
            "                        Rank      Year  Runtime (Minutes)    Rating     Votes  \\\n",
            "Rank                1.000000 -0.261605          -0.221739 -0.219555 -0.283876   \n",
            "Year               -0.261605  1.000000          -0.164900 -0.211219 -0.411904   \n",
            "Runtime (Minutes)  -0.221739 -0.164900           1.000000  0.392214  0.407062   \n",
            "Rating             -0.219555 -0.211219           0.392214  1.000000  0.511537   \n",
            "Votes              -0.283876 -0.411904           0.407062  0.511537  1.000000   \n",
            "Revenue (Millions) -0.271592 -0.126790           0.267953  0.217654  0.639661   \n",
            "Metascore          -0.191869 -0.079305           0.211978  0.631897  0.325684   \n",
            "\n",
            "                    Revenue (Millions)  Metascore  \n",
            "Rank                         -0.271592  -0.191869  \n",
            "Year                         -0.126790  -0.079305  \n",
            "Runtime (Minutes)             0.267953   0.211978  \n",
            "Rating                        0.217654   0.631897  \n",
            "Votes                         0.639661   0.325684  \n",
            "Revenue (Millions)            1.000000   0.142397  \n",
            "Metascore                     0.142397   1.000000  \n"
          ]
        }
      ],
      "source": [
        "### START CODE HERE ###\n",
        "print(df.corr())\n",
        "# metascore and rating, revenue and votes are correlated because the correlation value \n",
        "# of these 2 pairs is higher than 0.6\n",
        "### END CODE HERE ###"
      ]
    },
    {
      "cell_type": "markdown",
      "metadata": {
        "id": "CCWLaMge0sgI"
      },
      "source": [
        "## 6. File\n",
        "> Craet a .txt file and name it \"Name_actors\". You must write the name of all actors/actresses in the IMDB-Movie-Data.csv file. Don't write a name multiple time and write each name in a new line."
      ]
    },
    {
      "cell_type": "code",
      "execution_count": 127,
      "metadata": {
        "id": "U8KtgOhq0sgI"
      },
      "outputs": [],
      "source": [
        "### START CODE HERE ###\n",
        "actors = df.loc[:, 'Actors']\n",
        "names = []\n",
        "\n",
        "for cast in actors:\n",
        "      cast = cast.split(\", \")\n",
        "      for name in cast:\n",
        "          if name in names:\n",
        "              continue\n",
        "          else:\n",
        "              names.append(name)\n",
        "\n",
        "with open('Name_actors.txt', 'a') as f:\n",
        "    for name in sorted(names):\n",
        "        f.write(f\"{name}\\n\")\n",
        "f.close()\n",
        "### END CODE HERE ###"
      ]
    },
    {
      "cell_type": "markdown",
      "metadata": {
        "id": "t-_9hd8s0sgI"
      },
      "source": [
        "## 7. Plot\n",
        ">You must plot the number of movies in each year according to the IMDB-Movie-Data.csv file. X-axis is year and y-axis show the number of movies in each year.\n",
        "> set the x_label, y_label and title for your plot."
      ]
    },
    {
      "cell_type": "code",
      "execution_count": 128,
      "metadata": {
        "colab": {
          "base_uri": "https://localhost:8080/",
          "height": 312
        },
        "id": "2hMzxZgS0sgI",
        "outputId": "e086257d-b17a-493e-d8ed-f4e2d5eaef6a"
      },
      "outputs": [
        {
          "output_type": "stream",
          "name": "stdout",
          "text": [
            "[2006, 2007, 2008, 2009, 2010, 2011, 2012, 2013, 2014, 2015, 2016]\n"
          ]
        },
        {
          "output_type": "display_data",
          "data": {
            "text/plain": [
              "<Figure size 432x288 with 1 Axes>"
            ],
            "image/png": "[encoded data removed]"
          },
          "metadata": {
            "needs_background": "light"
          }
        }
      ],
      "source": [
        "### START CODE HERE ###\n",
        "import matplotlib.pyplot as plt\n",
        "counts = df['Year'].value_counts()\n",
        "#print(counts.loc[0])\n",
        "x = sorted(counts.keys())\n",
        "y = [counts[i] for i in x]\n",
        "\n",
        "fig = plt.figure()\n",
        "plt.title(\"IMDB\")\n",
        "plt.ylabel(\"number of movies\")\n",
        "plt.xlabel(\"year\")\n",
        "plt.plot(x, y)\n",
        "plt.show()\n",
        "\n",
        "\n",
        "\n"
      ]
    },
    {
      "cell_type": "markdown",
      "metadata": {
        "id": "uYxbP4K80sgI"
      },
      "source": [
        "## 8. Plot\n",
        ">You must plot the cos(x) curve. plot 20 cycle of the curve. the frequency of first half of curve is 50 Hz and frequency of second lalf is 20 Hz. \n",
        "> set the x_label, y_label and title for your plot."
      ]
    },
    {
      "cell_type": "code",
      "execution_count": 163,
      "metadata": {
        "id": "KrrzODI90sgI",
        "colab": {
          "base_uri": "https://localhost:8080/",
          "height": 295
        },
        "outputId": "9dd246f9-cf3f-4144-8e38-c7ec069a6699"
      },
      "outputs": [
        {
          "output_type": "display_data",
          "data": {
            "text/plain": [
              "<Figure size 432x288 with 1 Axes>"
            ],
            "image/png": "[encoded data removed]"
          },
          "metadata": {
            "needs_background": "light"
          }
        }
      ],
      "source": [
        "### START CODE HERE ###\n",
        "\n",
        "import matplotlib.pyplot as plt\n",
        "import numpy as np \n",
        "x1 = np.linspace(0, 2*np.pi/50 * 10,1000)\n",
        "x2 = np.linspace(2*np.pi/50 * 10,2*np.pi/50 *10 + 2*np.pi/20 * 10,1000)\n",
        "fig = plt.figure()\n",
        "plt.plot(x1, np.cos(50*x1), color='blue')\n",
        "plt.plot(x2, np.cos(20*x2), color='blue')\n",
        "\n",
        "plt.title(\"cosine\")\n",
        "plt.ylabel(\"y\")\n",
        "plt.xlabel(\"x\")\n",
        "plt.show()\n",
        "### END CODE HERE ###"
      ]
    }
  ],
  "metadata": {
    "colab": {
      "provenance": []
    },
    "kernelspec": {
      "display_name": "Python 3",
      "language": "python",
      "name": "python3"
    },
    "language_info": {
      "codemirror_mode": {
        "name": "ipython",
        "version": 3
      },
      "file_extension": ".py",
      "mimetype": "text/x-python",
      "name": "python",
      "nbconvert_exporter": "python",
      "pygments_lexer": "ipython3",
      "version": "3.9.4"
    }
  },
  "nbformat": 4,
  "nbformat_minor": 0
}